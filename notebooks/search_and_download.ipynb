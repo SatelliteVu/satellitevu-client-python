{
 "cells": [
  {
   "cell_type": "markdown",
   "metadata": {},
   "source": [
    "# Satellite Vu Python SDK"
   ]
  },
  {
   "cell_type": "markdown",
   "metadata": {},
   "source": [
    "## Installation\n",
    "\n",
    "Python 3.8 or higher is required for this package to work. To install the package from PyPi run: `pip install satellitevu`"
   ]
  },
  {
   "cell_type": "markdown",
   "metadata": {},
   "source": [
    "If the package can't be installed straight off the bat, you may need to install any extra dependencies our sdk needs first. The most common is having to install the appdirs pachage (`pip install appdirs`)."
   ]
  },
  {
   "cell_type": "markdown",
   "metadata": {},
   "source": [
    "## Setup\n",
    "\n",
    "To use the package you first need to have access to the Satellite Vu API by creating a client credential set.\n",
    "\n",
    "1. Log into the Satellite Vu ID Service\n",
    "\n",
    "2. Click the create client to obtain a client_id and client_secret. The client_secret will only be visible now so copy it and keep it secure!\n",
    "    - If you already have a client but have forgotten the secret, click Rotate Secret\n",
    "\n"
   ]
  },
  {
   "cell_type": "markdown",
   "metadata": {},
   "source": [
    "These will be used to authenticate your access to the API. You can either set them as environment variables in the shell or in your Python script e.g.\n",
    "\n",
    "**Important: When your client is initially created, you will only have access to the Archive Search. To be able to submit and download orders, please ask one of the Platform team to authorize you for performing these actions.**"
   ]
  },
  {
   "cell_type": "code",
   "execution_count": null,
   "metadata": {
    "vscode": {
     "languageId": "powershell"
    }
   },
   "outputs": [],
   "source": [
    "# Windows CMD Line\n",
    "\n",
    "set CLIENT_ID=<client_id>\n",
    "set CLIENT_SECRET=<client_secret>\n"
   ]
  },
  {
   "cell_type": "code",
   "execution_count": null,
   "metadata": {
    "vscode": {
     "languageId": "shellscript"
    }
   },
   "outputs": [],
   "source": [
    "# Mac/Unix\n",
    "\n",
    "# This method sets them in your local session i.e. when you restart the terminal you will have to reset this\n",
    "\n",
    "export CLIENT_ID=<client_id>\n",
    "export CLIENT_SECRET=<client_secret>\n",
    "\n",
    "# To add it to your profile permanently, open your bash profile with your favourite editor e.g\n",
    "\n",
    "nano  ~/.bash_profile # (bash users)\n",
    "nano ~/.zshrc # (zsh users)\n",
    "\n",
    "# Then add the export lines as above and save it\n"
   ]
  },
  {
   "cell_type": "code",
   "execution_count": null,
   "metadata": {},
   "outputs": [],
   "source": [
    "import os\n",
    "\n",
    "# ** Only do this if you're not sharing your scripts or pushing them to Github because we're hardcoding privileged info here! ** \n",
    "client_id = \"insert client id here\"\n",
    "client_secret = \"insert client secret here\"\n",
    "\n",
    "os.environ[\"CLIENT_ID\"] = client_id\n",
    "os.environ[\"CLIENT_SECRET\"] = client_secret\n"
   ]
  },
  {
   "cell_type": "markdown",
   "metadata": {},
   "source": [
    "## Using the SDK\n",
    "\n",
    "Great now we're all set up to start using the SDK! Let's instantiate the Satellite Vu Client which will help us interact with our APIs!"
   ]
  },
  {
   "cell_type": "code",
   "execution_count": null,
   "metadata": {},
   "outputs": [],
   "source": [
    "import os\n",
    "from satellitevu.client import Client\n",
    "\n",
    "client_id = os.environ[\"CLIENT_ID\"]\n",
    "client_secret = os.environ[\"CLIENT_SECRET\"]\n",
    "\n",
    "client = Client(client_id=client_id, client_secret=client_secret)\n",
    "client_id\n"
   ]
  },
  {
   "cell_type": "markdown",
   "metadata": {},
   "source": [
    "### Contracts\n",
    "\n",
    "SatVu Customers can have one or multiple contracts under which they can access our services. Available contracts for a user can be queried as shown below. It is important to note all that all Catalog and Tasking orders will be actioned with a specific contract so it is important to know the ID of the contract you wish to utilise."
   ]
  },
  {
   "cell_type": "code",
   "execution_count": null,
   "metadata": {},
   "outputs": [],
   "source": [
    "# Gets information for all contracts available to a SatVu customer.\n",
    "contracts = client.contracts_v1.get_contracts()\n",
    "print (f\"Available Contracts: {contracts}\")\n",
    "\n",
    "# Extract Contract ID\n",
    "contract_ids = [contract[\"contract_id\"] for contract in contracts]\n",
    "print (f\"Available Contract IDs: {contract_ids}\")\n",
    "\n",
    "# Retrieve information about a particular contract\n",
    "contract_details = client.contracts_v1.get_contract_pricebook(contract_id=contract_ids[0])\n",
    "print (f\"Contract Details: {contract_details}\")\n",
    "\n",
    "# Set a contract id for use in following queries in the notebook\n",
    "CONTRACT_ID = contract_ids[0]\n"
   ]
  },
  {
   "cell_type": "markdown",
   "metadata": {},
   "source": [
    "### Archive Searching\n",
    "\n",
    "The relevant documentation can be found in the Archive and Orders services. For searching, all the parameters available in the API should work in the SDK. Although they may not be presented as defined args, you can still pass them in using **kwargs"
   ]
  },
  {
   "cell_type": "code",
   "execution_count": null,
   "metadata": {},
   "outputs": [],
   "source": [
    "from datetime import datetime, timedelta\n",
    "\n",
    "# A search for the 100 most recent images in London over the past 2 months, sorted by most to least recent\n",
    "search_params = {\n",
    "    \"bbox\": [-1.065151, 51.163899, 0.457906, 51.802226], \n",
    "    \"date_from\": datetime.utcnow() - timedelta(days=60),\n",
    "    \"date_to\": datetime.utcnow(),\n",
    "    \"limit\" : 100,\n",
    "    \"sortby\": [{\"field\": \"datetime\", \"direction\": \"desc\"}]\n",
    "}\n",
    "\n",
    "# Perform the search\n",
    "london_search = client.archive_v2.search(contract_id=CONTRACT_ID, **search_params)\n",
    "\n",
    "# The search returns what the API does (i.e. a Response object from a web request) so we can check the status to see if it has been successful\n",
    "if london_search.status != 200:\n",
    "    raise Exception(f\"Error: {london_search.status} - {london_search.text}\")\n",
    "\n",
    "search_results = london_search.json()\n",
    "\n",
    "print (f\"Total Results: {search_results['context']['matched']}\") \n",
    "print (f\"Returned results: {search_results['context']['returned']}\")\n",
    "\n",
    "stac_items = search_results[\"features\"]\n",
    "stac_items[0]\n"
   ]
  },
  {
   "cell_type": "code",
   "execution_count": null,
   "metadata": {},
   "outputs": [],
   "source": [
    "import geopandas as gpd\n",
    "import pandas as pd\n",
    "import shapely\n",
    "\n",
    "gdf = gpd.GeoDataFrame.from_features(stac_items)\n",
    "gdf.geometry.map(lambda polygon: shapely.ops.transform(lambda x, y: (y, x), polygon))\n",
    "gdf.insert(0, \"identifier\",  pd.json_normalize(stac_items)[\"id\"].values)\n",
    "gdf.head()\n"
   ]
  },
  {
   "cell_type": "code",
   "execution_count": null,
   "metadata": {},
   "outputs": [],
   "source": [
    "import folium\n",
    "\n",
    "minx, miny, maxx, maxy = gdf.geometry.total_bounds\n",
    "\n",
    "map = folium.Map()\n",
    "map.fit_bounds(bounds=[[miny,minx],[maxy,maxx]])\n",
    "for _, r in gdf.iterrows():\n",
    "    # Add polygons to map\n",
    "    sim_geo = gpd.GeoSeries(r['geometry'])\n",
    "    geo_j = sim_geo.to_json()\n",
    "    geo_j = folium.GeoJson(data=geo_j,\n",
    "                           style_function=lambda x: {'fillColor': 'orange'})\n",
    "    folium.Popup(r['identifier']).add_to(geo_j)\n",
    "\n",
    "    # Add markers showing datetime\n",
    "    lat = r.geometry.centroid.y\n",
    "    lon = r.geometry.centroid.x\n",
    "    folium.Marker(location=[lat, lon],popup=f\"datetime: {r['datetime']}\").add_to(map)\n",
    "\n",
    "    geo_j.add_to(map)\n",
    "\n",
    "map\n"
   ]
  },
  {
   "cell_type": "markdown",
   "metadata": {},
   "source": [
    "### Orders and Downloads\n",
    "\n",
    "The client can be used to programatically submit orders (of multiple items) and subsequently download them."
   ]
  },
  {
   "cell_type": "code",
   "execution_count": null,
   "metadata": {},
   "outputs": [],
   "source": [
    "# Submitting an Order\n",
    "\n",
    "stac_item_ids = [item[\"id\"] for item in stac_items]\n",
    "my_items = stac_item_ids[:5]\n",
    "print (my_items)\n",
    "\n",
    "my_order = client.orders_v2.submit(contract_id=CONTRACT_ID, item_ids=my_items)\n",
    "\n",
    "if my_order.status != 201:\n",
    "    raise Exception(f\"Error: {my_order.status} - {my_order.text}\")\n",
    "\n",
    "# Within this JSON you will receive an order ID. You will need this to download your imagery.\n",
    "my_order_json = my_order.json()\n",
    "my_order_id = my_order_json[\"id\"]\n",
    "print (f\"Order ID: {my_order_id}\")\n",
    "\n"
   ]
  },
  {
   "cell_type": "code",
   "execution_count": null,
   "metadata": {},
   "outputs": [],
   "source": [
    "# Downloading an order\n",
    "\n",
    "# Download the whole order - this will download all the imagery from that Order ID into a zip file at the location of your choice.\n",
    "# The ZIP file will be name SatelliteVu_<order_id>.zip\n",
    "# The path of this zip file is the return from the method\n",
    "\n",
    "downloaded_order = client.orders_v2.download_order(contract_id=CONTRACT_ID, order_id=my_order_id, destdir=\"/path/to/download\")\n",
    "print (downloaded_order)\n",
    "\n",
    "\n",
    "# Download an individual item in the order. The file will be named <item_id>.zip\n",
    "\n",
    "download_item = client.orders_v2.download_item(contract_id=CONTRACT_ID, order_id=my_order_id, item_id=my_items[0], destdir=\"/path/to/download\")\n",
    "print (download_item)\n"
   ]
  }
 ],
 "metadata": {
  "kernelspec": {
   "display_name": "Python 3.10.5 64-bit",
   "language": "python",
   "name": "python3"
  },
  "language_info": {
   "codemirror_mode": {
    "name": "ipython",
    "version": 3
   },
   "file_extension": ".py",
   "mimetype": "text/x-python",
   "name": "python",
   "nbconvert_exporter": "python",
   "pygments_lexer": "ipython3",
   "version": "3.10.5"
  },
  "orig_nbformat": 4,
  "vscode": {
   "interpreter": {
    "hash": "aee8b7b246df8f9039afb4144a1f6fd8d2ca17a180786b69acc140d282b71a49"
   }
  }
 },
 "nbformat": 4,
 "nbformat_minor": 2
}
